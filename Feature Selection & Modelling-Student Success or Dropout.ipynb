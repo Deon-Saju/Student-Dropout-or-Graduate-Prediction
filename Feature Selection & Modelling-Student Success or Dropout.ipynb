{
 "cells": [
  {
   "cell_type": "markdown",
   "id": "ee41fc86",
   "metadata": {},
   "source": [
    "<h1><center>TEAM IGNITE</center></h1>"
   ]
  },
  {
   "cell_type": "markdown",
   "id": "3a6aad2a",
   "metadata": {},
   "source": [
    "### Feature Selection"
   ]
  },
  {
   "cell_type": "code",
   "execution_count": 1,
   "id": "06842f5f",
   "metadata": {},
   "outputs": [],
   "source": [
    "import pandas as pd\n",
    "import matplotlib.pyplot as plt\n",
    "import seaborn as sns"
   ]
  },
  {
   "cell_type": "code",
   "execution_count": 2,
   "id": "256e2b2f",
   "metadata": {},
   "outputs": [],
   "source": [
    "df=pd.read_csv('student_success_dropout.csv')"
   ]
  },
  {
   "cell_type": "code",
   "execution_count": 3,
   "id": "bb2afa18",
   "metadata": {},
   "outputs": [
    {
     "data": {
      "text/html": [
       "<div>\n",
       "<style scoped>\n",
       "    .dataframe tbody tr th:only-of-type {\n",
       "        vertical-align: middle;\n",
       "    }\n",
       "\n",
       "    .dataframe tbody tr th {\n",
       "        vertical-align: top;\n",
       "    }\n",
       "\n",
       "    .dataframe thead th {\n",
       "        text-align: right;\n",
       "    }\n",
       "</style>\n",
       "<table border=\"1\" class=\"dataframe\">\n",
       "  <thead>\n",
       "    <tr style=\"text-align: right;\">\n",
       "      <th></th>\n",
       "      <th>Marital status</th>\n",
       "      <th>Application mode</th>\n",
       "      <th>Application order</th>\n",
       "      <th>Course</th>\n",
       "      <th>Daytime/evening attendance\\t</th>\n",
       "      <th>Previous qualification</th>\n",
       "      <th>Previous qualification (grade)</th>\n",
       "      <th>Nacionality</th>\n",
       "      <th>Mother's qualification</th>\n",
       "      <th>Father's qualification</th>\n",
       "      <th>...</th>\n",
       "      <th>Curricular units 2nd sem (credited)</th>\n",
       "      <th>Curricular units 2nd sem (enrolled)</th>\n",
       "      <th>Curricular units 2nd sem (evaluations)</th>\n",
       "      <th>Curricular units 2nd sem (approved)</th>\n",
       "      <th>Curricular units 2nd sem (grade)</th>\n",
       "      <th>Curricular units 2nd sem (without evaluations)</th>\n",
       "      <th>Unemployment rate</th>\n",
       "      <th>Inflation rate</th>\n",
       "      <th>GDP</th>\n",
       "      <th>Target</th>\n",
       "    </tr>\n",
       "  </thead>\n",
       "  <tbody>\n",
       "    <tr>\n",
       "      <th>1259</th>\n",
       "      <td>1</td>\n",
       "      <td>17</td>\n",
       "      <td>1</td>\n",
       "      <td>171</td>\n",
       "      <td>1</td>\n",
       "      <td>1</td>\n",
       "      <td>135.0</td>\n",
       "      <td>1</td>\n",
       "      <td>19</td>\n",
       "      <td>1</td>\n",
       "      <td>...</td>\n",
       "      <td>4</td>\n",
       "      <td>11</td>\n",
       "      <td>12</td>\n",
       "      <td>11</td>\n",
       "      <td>13.583333</td>\n",
       "      <td>0</td>\n",
       "      <td>8.9</td>\n",
       "      <td>1.4</td>\n",
       "      <td>3.51</td>\n",
       "      <td>2</td>\n",
       "    </tr>\n",
       "  </tbody>\n",
       "</table>\n",
       "<p>1 rows × 37 columns</p>\n",
       "</div>"
      ],
      "text/plain": [
       "      Marital status  Application mode  Application order  Course  \\\n",
       "1259               1                17                  1     171   \n",
       "\n",
       "      Daytime/evening attendance\\t  Previous qualification  \\\n",
       "1259                             1                       1   \n",
       "\n",
       "      Previous qualification (grade)  Nacionality  Mother's qualification  \\\n",
       "1259                           135.0            1                      19   \n",
       "\n",
       "      Father's qualification  ...  Curricular units 2nd sem (credited)  \\\n",
       "1259                       1  ...                                    4   \n",
       "\n",
       "      Curricular units 2nd sem (enrolled)  \\\n",
       "1259                                   11   \n",
       "\n",
       "      Curricular units 2nd sem (evaluations)  \\\n",
       "1259                                      12   \n",
       "\n",
       "      Curricular units 2nd sem (approved)  Curricular units 2nd sem (grade)  \\\n",
       "1259                                   11                         13.583333   \n",
       "\n",
       "      Curricular units 2nd sem (without evaluations)  Unemployment rate  \\\n",
       "1259                                               0                8.9   \n",
       "\n",
       "      Inflation rate   GDP  Target  \n",
       "1259             1.4  3.51       2  \n",
       "\n",
       "[1 rows x 37 columns]"
      ]
     },
     "execution_count": 3,
     "metadata": {},
     "output_type": "execute_result"
    }
   ],
   "source": [
    "df.sample()"
   ]
  },
  {
   "cell_type": "code",
   "execution_count": 4,
   "id": "1f4d201b",
   "metadata": {},
   "outputs": [],
   "source": [
    "import statsmodels.api as sm\n",
    "\n",
    "X = df[['Marital status', 'Application mode', 'Application order', 'Course',\n",
    "       'Daytime/evening attendance\\t', 'Previous qualification',\n",
    "       'Previous qualification (grade)', 'Nacionality',\n",
    "       \"Mother's qualification\", \"Father's qualification\",\n",
    "       \"Mother's occupation\", \"Father's occupation\", 'Admission grade',\n",
    "       'Displaced', 'Educational special needs', 'Debtor',\n",
    "       'Tuition fees up to date', 'Gender', 'Scholarship holder',\n",
    "       'Age at enrollment', 'International',\n",
    "       'Curricular units 1st sem (credited)',\n",
    "       'Curricular units 1st sem (enrolled)',\n",
    "       'Curricular units 1st sem (evaluations)',\n",
    "       'Curricular units 1st sem (approved)',\n",
    "       'Curricular units 1st sem (grade)',\n",
    "       'Curricular units 1st sem (without evaluations)',\n",
    "       'Curricular units 2nd sem (credited)',\n",
    "       'Curricular units 2nd sem (enrolled)',\n",
    "       'Curricular units 2nd sem (evaluations)',\n",
    "       'Curricular units 2nd sem (approved)',\n",
    "       'Curricular units 2nd sem (grade)',\n",
    "       'Curricular units 2nd sem (without evaluations)', 'Unemployment rate',\n",
    "       'Inflation rate', 'GDP']]\n",
    "y = df['Target']\n",
    "\n",
    "model = sm.OLS(y, sm.add_constant(X)).fit()\n",
    "\n",
    "output = model.summary()\n",
    "\n",
    "pvalues = model.pvalues\n",
    "\n",
    "significant_features = [feature for feature, pvalue in pvalues.items() if pvalue < 0.005]"
   ]
  },
  {
   "cell_type": "code",
   "execution_count": 5,
   "id": "4906cf1b",
   "metadata": {},
   "outputs": [
    {
     "data": {
      "text/plain": [
       "['const',\n",
       " 'Previous qualification',\n",
       " 'Nacionality',\n",
       " 'Debtor',\n",
       " 'Tuition fees up to date',\n",
       " 'Gender',\n",
       " 'Scholarship holder',\n",
       " 'International',\n",
       " 'Curricular units 1st sem (credited)',\n",
       " 'Curricular units 1st sem (approved)',\n",
       " 'Curricular units 2nd sem (credited)',\n",
       " 'Curricular units 2nd sem (enrolled)',\n",
       " 'Curricular units 2nd sem (evaluations)',\n",
       " 'Curricular units 2nd sem (approved)',\n",
       " 'Curricular units 2nd sem (grade)']"
      ]
     },
     "execution_count": 5,
     "metadata": {},
     "output_type": "execute_result"
    }
   ],
   "source": [
    "significant_features"
   ]
  },
  {
   "cell_type": "markdown",
   "id": "a9ec0e45",
   "metadata": {},
   "source": [
    "The features that we will be using to build our model will be-\n",
    "\n",
    "'Previous qualification',\n",
    " 'Nacionality',\n",
    " 'Debtor',\n",
    " 'Tuition fees up to date',\n",
    " 'Gender',\n",
    " 'Scholarship holder',\n",
    " 'International',\n",
    " 'Curricular units 1st sem (credited)',\n",
    " 'Curricular units 1st sem (approved)',\n",
    " 'Curricular units 2nd sem (credited)',\n",
    " 'Curricular units 2nd sem (enrolled)',\n",
    " 'Curricular units 2nd sem (evaluations)',\n",
    " 'Curricular units 2nd sem (approved)',\n",
    " 'Curricular units 2nd sem (grade)'"
   ]
  },
  {
   "cell_type": "markdown",
   "id": "4a63a913",
   "metadata": {},
   "source": [
    "### Model Building"
   ]
  },
  {
   "cell_type": "code",
   "execution_count": 6,
   "id": "1a8ff1bb",
   "metadata": {},
   "outputs": [],
   "source": [
    "X=df[[\n",
    " 'Previous qualification',\n",
    " 'Nacionality',\n",
    " 'Debtor',\n",
    " 'Tuition fees up to date',\n",
    " 'Gender',\n",
    " 'Scholarship holder',\n",
    " 'International',\n",
    " 'Curricular units 1st sem (credited)',\n",
    " 'Curricular units 1st sem (approved)',\n",
    " 'Curricular units 2nd sem (credited)',\n",
    " 'Curricular units 2nd sem (enrolled)',\n",
    " 'Curricular units 2nd sem (evaluations)',\n",
    " 'Curricular units 2nd sem (approved)',\n",
    " 'Curricular units 2nd sem (grade)']]"
   ]
  },
  {
   "cell_type": "code",
   "execution_count": 7,
   "id": "450ff771",
   "metadata": {},
   "outputs": [],
   "source": [
    "y=df['Target']"
   ]
  },
  {
   "cell_type": "markdown",
   "id": "877d36f0",
   "metadata": {},
   "source": [
    "#### Logistic Regression"
   ]
  },
  {
   "cell_type": "code",
   "execution_count": 8,
   "id": "d6b2b2d2",
   "metadata": {},
   "outputs": [],
   "source": [
    "from sklearn.model_selection import train_test_split\n",
    "from sklearn.linear_model import LogisticRegression"
   ]
  },
  {
   "cell_type": "code",
   "execution_count": 9,
   "id": "2d4afb7d",
   "metadata": {},
   "outputs": [],
   "source": [
    "from sklearn.metrics import accuracy_score, confusion_matrix, classification_report\n",
    "from sklearn import metrics"
   ]
  },
  {
   "cell_type": "code",
   "execution_count": 10,
   "id": "eea79fb1",
   "metadata": {},
   "outputs": [],
   "source": [
    "x_train,x_test,y_train,y_test = train_test_split(X,y,test_size=0.2)"
   ]
  },
  {
   "cell_type": "code",
   "execution_count": 11,
   "id": "2b477456",
   "metadata": {},
   "outputs": [
    {
     "name": "stderr",
     "output_type": "stream",
     "text": [
      "C:\\Users\\LENOVO\\anaconda3\\lib\\site-packages\\sklearn\\linear_model\\_logistic.py:814: ConvergenceWarning: lbfgs failed to converge (status=1):\n",
      "STOP: TOTAL NO. of ITERATIONS REACHED LIMIT.\n",
      "\n",
      "Increase the number of iterations (max_iter) or scale the data as shown in:\n",
      "    https://scikit-learn.org/stable/modules/preprocessing.html\n",
      "Please also refer to the documentation for alternative solver options:\n",
      "    https://scikit-learn.org/stable/modules/linear_model.html#logistic-regression\n",
      "  n_iter_i = _check_optimize_result(\n"
     ]
    },
    {
     "data": {
      "text/plain": [
       "LogisticRegression()"
      ]
     },
     "execution_count": 11,
     "metadata": {},
     "output_type": "execute_result"
    }
   ],
   "source": [
    "# Train the logistic regression model\n",
    "model = LogisticRegression()\n",
    "model.fit(x_train, y_train)"
   ]
  },
  {
   "cell_type": "code",
   "execution_count": 12,
   "id": "fd11558c",
   "metadata": {},
   "outputs": [],
   "source": [
    "# Make predictions on the test data\n",
    "y_pred = model.predict(x_test)"
   ]
  },
  {
   "cell_type": "code",
   "execution_count": 13,
   "id": "7d722c8b",
   "metadata": {},
   "outputs": [
    {
     "name": "stdout",
     "output_type": "stream",
     "text": [
      "Accuracy: 0.8870523415977961\n"
     ]
    }
   ],
   "source": [
    "# Evaluate the model's accuracy\n",
    "accuracy = accuracy_score(y_test, y_pred)\n",
    "print(\"Accuracy:\", accuracy)"
   ]
  },
  {
   "cell_type": "code",
   "execution_count": 14,
   "id": "b6cf8a4a",
   "metadata": {},
   "outputs": [
    {
     "data": {
      "text/plain": [
       "array([[246,  45],\n",
       "       [ 37, 398]], dtype=int64)"
      ]
     },
     "execution_count": 14,
     "metadata": {},
     "output_type": "execute_result"
    }
   ],
   "source": [
    "metrics.confusion_matrix(y_test, y_pred)"
   ]
  },
  {
   "cell_type": "code",
   "execution_count": 15,
   "id": "9add4cf2",
   "metadata": {},
   "outputs": [
    {
     "data": {
      "image/png": "[encoded data removed]",
      "text/plain": [
       "<Figure size 500x500 with 2 Axes>"
      ]
     },
     "metadata": {},
     "output_type": "display_data"
    }
   ],
   "source": [
    "conf_mat = confusion_matrix(y_test, y_pred)\n",
    "\n",
    "plt.figure(figsize=(5,5))\n",
    "sns.heatmap(conf_mat, annot=True, cmap=\"Blues\", fmt='d',\n",
    "            xticklabels=['True Negative','False Positive'], \n",
    "            yticklabels=['False Negative','True Positive'])\n",
    "\n",
    "plt.xlabel('Predicted')\n",
    "plt.ylabel('True')\n",
    "plt.title('Confusion Matrix')\n",
    "plt.show()"
   ]
  },
  {
   "cell_type": "markdown",
   "id": "ff8ca220",
   "metadata": {},
   "source": [
    "#### Random Forest Classifier"
   ]
  },
  {
   "cell_type": "code",
   "execution_count": 16,
   "id": "3592b9ac",
   "metadata": {},
   "outputs": [],
   "source": [
    "from sklearn.ensemble import RandomForestClassifier"
   ]
  },
  {
   "cell_type": "code",
   "execution_count": 17,
   "id": "0b5f9aa5",
   "metadata": {},
   "outputs": [],
   "source": [
    "xrf_train,xrf_test,yrf_train,yrf_test = train_test_split(X, y,test_size=0.2)"
   ]
  },
  {
   "cell_type": "code",
   "execution_count": 18,
   "id": "628de4e8",
   "metadata": {},
   "outputs": [
    {
     "data": {
      "text/plain": [
       "RandomForestClassifier(max_depth=6, min_samples_leaf=8, random_state=100)"
      ]
     },
     "execution_count": 18,
     "metadata": {},
     "output_type": "execute_result"
    }
   ],
   "source": [
    "model_xrf = RandomForestClassifier(n_estimators=100, criterion='gini', random_state = 100,max_depth=6, min_samples_leaf=8)\n",
    "model_xrf.fit(xrf_train,yrf_train)"
   ]
  },
  {
   "cell_type": "code",
   "execution_count": 19,
   "id": "9003e688",
   "metadata": {},
   "outputs": [],
   "source": [
    "yrf_predict = model_xrf.predict(xrf_test)\n",
    "model_score_r = model_xrf.score(xrf_test, yrf_test)"
   ]
  },
  {
   "cell_type": "code",
   "execution_count": 20,
   "id": "4904cba6",
   "metadata": {},
   "outputs": [
    {
     "data": {
      "text/plain": [
       "0.9008264462809917"
      ]
     },
     "execution_count": 20,
     "metadata": {},
     "output_type": "execute_result"
    }
   ],
   "source": [
    "model_score_r"
   ]
  },
  {
   "cell_type": "code",
   "execution_count": 21,
   "id": "540d33fd",
   "metadata": {},
   "outputs": [
    {
     "name": "stdout",
     "output_type": "stream",
     "text": [
      "              precision    recall  f1-score   support\n",
      "\n",
      "           0       0.91      0.81      0.86       275\n",
      "           2       0.89      0.95      0.92       451\n",
      "\n",
      "    accuracy                           0.90       726\n",
      "   macro avg       0.90      0.88      0.89       726\n",
      "weighted avg       0.90      0.90      0.90       726\n",
      "\n"
     ]
    }
   ],
   "source": [
    "print(metrics.classification_report(yrf_test, yrf_predict))"
   ]
  },
  {
   "cell_type": "code",
   "execution_count": 22,
   "id": "4296ca55",
   "metadata": {},
   "outputs": [
    {
     "name": "stdout",
     "output_type": "stream",
     "text": [
      "[[224  51]\n",
      " [ 21 430]]\n"
     ]
    }
   ],
   "source": [
    "print(metrics.confusion_matrix(yrf_test, yrf_predict))"
   ]
  },
  {
   "cell_type": "code",
   "execution_count": 23,
   "id": "6123507f",
   "metadata": {},
   "outputs": [
    {
     "data": {
      "image/png": "[encoded data removed]",
      "text/plain": [
       "<Figure size 500x500 with 2 Axes>"
      ]
     },
     "metadata": {},
     "output_type": "display_data"
    }
   ],
   "source": [
    "conf_mat = confusion_matrix(yrf_test, yrf_predict)\n",
    "\n",
    "plt.figure(figsize=(5,5))\n",
    "sns.heatmap(conf_mat, annot=True, cmap=\"YlGnBu_r\", fmt='d',\n",
    "            xticklabels=['True Negative','False Positive'], \n",
    "            yticklabels=['False Negative','True Positive'])\n",
    "\n",
    "plt.xlabel('Predicted')\n",
    "plt.ylabel('True')\n",
    "plt.title('Confusion Matrix')\n",
    "plt.show()"
   ]
  },
  {
   "cell_type": "markdown",
   "id": "0a97da55",
   "metadata": {},
   "source": [
    "#### Gradient Boosting"
   ]
  },
  {
   "cell_type": "code",
   "execution_count": 24,
   "id": "1868bec8",
   "metadata": {},
   "outputs": [],
   "source": [
    "from sklearn.ensemble import GradientBoostingClassifier"
   ]
  },
  {
   "cell_type": "code",
   "execution_count": 25,
   "id": "ca86a3db",
   "metadata": {},
   "outputs": [],
   "source": [
    "xgb_train,xgb_test,ygb_train,ygb_test = train_test_split(X, y,test_size=0.2)"
   ]
  },
  {
   "cell_type": "code",
   "execution_count": 34,
   "id": "306bb21d",
   "metadata": {},
   "outputs": [
    {
     "data": {
      "text/plain": [
       "GradientBoostingClassifier(learning_rate=0.05, max_features=5, n_estimators=500,\n",
       "                           random_state=100)"
      ]
     },
     "execution_count": 34,
     "metadata": {},
     "output_type": "execute_result"
    }
   ],
   "source": [
    "# Define Gradient Boosting Classifier with hyperparameters\n",
    "gbc=GradientBoostingClassifier(n_estimators=500,learning_rate=0.05,random_state=100,max_features=5 )\n",
    "\n",
    "# Fit train data to GBC\n",
    "gbc.fit(xgb_train,ygb_train)"
   ]
  },
  {
   "cell_type": "code",
   "execution_count": 27,
   "id": "cd6e107c",
   "metadata": {},
   "outputs": [
    {
     "name": "stdout",
     "output_type": "stream",
     "text": [
      "Gradient Boost accuracy is 0.89\n"
     ]
    }
   ],
   "source": [
    "# Accuracy of model\n",
    "\n",
    "print(\"Gradient Boost accuracy is %2.2f\" % accuracy_score( \n",
    "     ygb_test, gbc.predict(xgb_test)))"
   ]
  },
  {
   "cell_type": "code",
   "execution_count": 28,
   "id": "6e9df618",
   "metadata": {},
   "outputs": [
    {
     "name": "stdout",
     "output_type": "stream",
     "text": [
      "              precision    recall  f1-score   support\n",
      "\n",
      "           0       0.93      0.78      0.85       283\n",
      "           2       0.87      0.96      0.91       443\n",
      "\n",
      "    accuracy                           0.89       726\n",
      "   macro avg       0.90      0.87      0.88       726\n",
      "weighted avg       0.89      0.89      0.89       726\n",
      "\n"
     ]
    }
   ],
   "source": [
    "pred=gbc.predict(xgb_test)\n",
    "print(classification_report(ygb_test, pred))"
   ]
  },
  {
   "cell_type": "code",
   "execution_count": 29,
   "id": "41c3366c",
   "metadata": {},
   "outputs": [
    {
     "name": "stdout",
     "output_type": "stream",
     "text": [
      "[[220  63]\n",
      " [ 17 426]]\n"
     ]
    }
   ],
   "source": [
    "print(confusion_matrix(ygb_test, gbc.predict(xgb_test)))"
   ]
  },
  {
   "cell_type": "code",
   "execution_count": 30,
   "id": "e63e20d7",
   "metadata": {},
   "outputs": [
    {
     "data": {
      "image/png": "[encoded data removed]",
      "text/plain": [
       "<Figure size 500x500 with 2 Axes>"
      ]
     },
     "metadata": {},
     "output_type": "display_data"
    }
   ],
   "source": [
    "conf_mat = confusion_matrix(ygb_test, gbc.predict(xgb_test))\n",
    "\n",
    "plt.figure(figsize=(5,5))\n",
    "sns.heatmap(conf_mat, annot=True, cmap=\"coolwarm_r\", fmt='d',\n",
    "            xticklabels=['True Negative','False Positive'], \n",
    "            yticklabels=['False Negative','True Positive'])\n",
    "\n",
    "plt.xlabel('Predicted')\n",
    "plt.ylabel('True')\n",
    "plt.title('Confusion Matrix')\n",
    "plt.show()"
   ]
  },
  {
   "cell_type": "markdown",
   "id": "bc7e7872",
   "metadata": {},
   "source": [
    "#### Hyperparameter tuning using GridSearchCV"
   ]
  },
  {
   "cell_type": "code",
   "execution_count": 40,
   "id": "7921b6fb",
   "metadata": {},
   "outputs": [
    {
     "name": "stdout",
     "output_type": "stream",
     "text": [
      "Best Parameters: {'max_depth': None, 'min_samples_split': 10, 'n_estimators': 300}\n",
      "Best Model Accuracy: 0.9049586776859504\n"
     ]
    }
   ],
   "source": [
    "from sklearn.model_selection import GridSearchCV\n",
    "from sklearn.ensemble import GradientBoostingClassifier\n",
    "\n",
    "# Define the parameter grid\n",
    "param_grid = {\n",
    "    'n_estimators': [100, 200, 300],\n",
    "    'max_depth': [None, 5, 10],\n",
    "    'min_samples_split': [2, 5, 10]\n",
    "}\n",
    "\n",
    "# Create a gradient boosting classifier\n",
    "model_xrf = RandomForestClassifier()\n",
    "\n",
    "# Create a GridSearchCV object\n",
    "grid_search = GridSearchCV(estimator=model_xrf, param_grid=param_grid, scoring='accuracy', cv=5)\n",
    "\n",
    "# Fit the grid search to the training data\n",
    "grid_search.fit(xrf_train, yrf_train)\n",
    "\n",
    "# Get the best hyperparameters and model\n",
    "best_params = grid_search.best_params_\n",
    "best_model = grid_search.best_estimator_\n",
    "\n",
    "# Evaluate the model on the test set\n",
    "accuracy = best_model.score(xrf_test, yrf_test)\n",
    "print(\"Best Parameters:\", best_params)\n",
    "print(\"Best Model Accuracy:\", accuracy)"
   ]
  },
  {
   "cell_type": "markdown",
   "id": "ebf20d1d",
   "metadata": {},
   "source": [
    "### Model Deployment"
   ]
  },
  {
   "cell_type": "code",
   "execution_count": 31,
   "id": "10dfe120",
   "metadata": {},
   "outputs": [
    {
     "name": "stdout",
     "output_type": "stream",
     "text": [
      "[2 2 0 2 2 0 2 0 2 0 2 2 0 2 2 0 2 2 2]\n"
     ]
    }
   ],
   "source": [
    "# Load the new data into a pandas DataFrame\n",
    "new_data = pd.read_csv(r\"C:\\Users\\LENOVO\\Dropbox\\PC\\Downloads\\test sample.csv\")\n",
    "\n",
    "# Preprocess the new data (if required) to match the format of the training data\n",
    "\n",
    "# Load the trained model\n",
    "gbc = GradientBoostingClassifier()\n",
    "\n",
    "# Assuming you have trained the model on X_train and y_train\n",
    "# Fit the model on the training data\n",
    "gbc.fit(xgb_train,ygb_train)\n",
    "\n",
    "# Make predictions on the new data\n",
    "predictions = gbc.predict(new_data)\n",
    "\n",
    "# View the predicted labels\n",
    "print(predictions)"
   ]
  },
  {
   "cell_type": "markdown",
   "id": "05c0cb4a",
   "metadata": {},
   "source": [
    "0-Dropout\n",
    "\n",
    "2-Graduated"
   ]
  },
  {
   "cell_type": "markdown",
   "id": "afe10ca4",
   "metadata": {},
   "source": [
    "##### Our model works pretty well on new data aswell."
   ]
  }
 ],
 "metadata": {
  "kernelspec": {
   "display_name": "Python 3 (ipykernel)",
   "language": "python",
   "name": "python3"
  },
  "language_info": {
   "codemirror_mode": {
    "name": "ipython",
    "version": 3
   },
   "file_extension": ".py",
   "mimetype": "text/x-python",
   "name": "python",
   "nbconvert_exporter": "python",
   "pygments_lexer": "ipython3",
   "version": "3.9.13"
  }
 },
 "nbformat": 4,
 "nbformat_minor": 5
}
